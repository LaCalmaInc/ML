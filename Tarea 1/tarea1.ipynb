{
 "cells": [
  {
   "cell_type": "markdown",
   "metadata": {},
   "source": [
    "# PHISHING DATASET"
   ]
  },
  {
   "cell_type": "markdown",
   "metadata": {},
   "source": [
    "### 1. Cargar datos y chequear integridad"
   ]
  },
  {
   "cell_type": "code",
   "execution_count": 97,
   "metadata": {},
   "outputs": [],
   "source": [
    "import pandas as pd\n",
    "from sklearn.model_selection import train_test_split\n",
    "from sklearn.naive_bayes import GaussianNB\n",
    "from sklearn.discriminant_analysis import QuadraticDiscriminantAnalysis, LinearDiscriminantAnalysis\n",
    "from sklearn.linear_model import LogisticRegression\n",
    "from sklearn.preprocessing import StandardScaler\n",
    "from sklearn.metrics import precision_score, recall_score,f1_score\n",
    "from scipy.io import arff\n",
    "import numpy as np\n",
    "from ucimlrepo import fetch_ucirepo "
   ]
  },
  {
   "cell_type": "code",
   "execution_count": 98,
   "metadata": {},
   "outputs": [
    {
     "name": "stdout",
     "output_type": "stream",
     "text": [
      "{'uci_id': 327, 'name': 'Phishing Websites', 'repository_url': 'https://archive.ics.uci.edu/dataset/327/phishing+websites', 'data_url': 'https://archive.ics.uci.edu/static/public/327/data.csv', 'abstract': 'This dataset collected mainly from: PhishTank archive, MillerSmiles archive, Googleâ€™s searching operators.', 'area': 'Computer Science', 'tasks': ['Classification'], 'characteristics': ['Tabular'], 'num_instances': 11055, 'num_features': 30, 'feature_types': ['Integer'], 'demographics': [], 'target_col': ['result'], 'index_col': None, 'has_missing_values': 'no', 'missing_values_symbol': None, 'year_of_dataset_creation': 2012, 'last_updated': 'Tue Mar 05 2024', 'dataset_doi': '10.24432/C51W2X', 'creators': ['Rami Mohammad', 'Lee McCluskey'], 'intro_paper': {'ID': 396, 'type': 'NATIVE', 'title': 'An assessment of features related to phishing websites using an automated technique', 'authors': 'R. Mohammad, F. Thabtah, L. Mccluskey', 'venue': 'International Conference for Internet Technology and Secured Transactions', 'year': 2012, 'journal': None, 'DOI': None, 'URL': 'https://www.semanticscholar.org/paper/An-assessment-of-features-related-to-phishing-using-Mohammad-Thabtah/0c0ff58063f4e078714ea74f112bc709ba9fed06', 'sha': None, 'corpus': None, 'arxiv': None, 'mag': None, 'acl': None, 'pmid': None, 'pmcid': None}, 'additional_info': {'summary': 'One of the challenges faced by our research was the unavailability of reliable training datasets. In fact this challenge faces any researcher in the field. However, although plenty of articles about predicting phishing websites have been disseminated these days, no reliable training dataset has been published publically, may be because there is no agreement in literature on the definitive features that characterize phishing webpages, hence it is difficult to shape a dataset that covers all possible features. \\r\\nIn this dataset, we shed light on the important features that have proved to be sound and effective in predicting phishing websites. In addition, we propose some new features.', 'purpose': None, 'funded_by': None, 'instances_represent': None, 'recommended_data_splits': None, 'sensitive_data': None, 'preprocessing_description': None, 'variable_info': 'For Further information about the features see the features file in the data folder.', 'citation': None}}\n",
      "                          name     role     type demographic description  \\\n",
      "0            having_ip_address  Feature  Integer        None        None   \n",
      "1                   url_length  Feature  Integer        None        None   \n",
      "2           shortining_service  Feature  Integer        None        None   \n",
      "3             having_at_symbol  Feature  Integer        None        None   \n",
      "4     double_slash_redirecting  Feature  Integer        None        None   \n",
      "5                prefix_suffix  Feature  Integer        None        None   \n",
      "6            having_sub_domain  Feature  Integer        None        None   \n",
      "7               sslfinal_state  Feature  Integer        None        None   \n",
      "8   domain_registration_length  Feature  Integer        None        None   \n",
      "9                      favicon  Feature  Integer        None        None   \n",
      "10                        port  Feature  Integer        None        None   \n",
      "11                 https_token  Feature  Integer        None        None   \n",
      "12                 request_url  Feature  Integer        None        None   \n",
      "13               url_of_anchor  Feature  Integer        None        None   \n",
      "14               links_in_tags  Feature  Integer        None        None   \n",
      "15                         sfh  Feature  Integer        None        None   \n",
      "16         submitting_to_email  Feature  Integer        None        None   \n",
      "17                abnormal_url  Feature  Integer        None        None   \n",
      "18                    redirect  Feature  Integer        None        None   \n",
      "19                on_mouseover  Feature  Integer        None        None   \n",
      "20                  rightclick  Feature  Integer        None        None   \n",
      "21                 popupwindow  Feature  Integer        None        None   \n",
      "22                      iframe  Feature  Integer        None        None   \n",
      "23               age_of_domain  Feature  Integer        None        None   \n",
      "24                   dnsrecord  Feature  Integer        None        None   \n",
      "25                 web_traffic  Feature  Integer        None        None   \n",
      "26                   page_rank  Feature  Integer        None        None   \n",
      "27                google_index  Feature  Integer        None        None   \n",
      "28      links_pointing_to_page  Feature  Integer        None        None   \n",
      "29          statistical_report  Feature  Integer        None        None   \n",
      "30                      result   Target  Integer        None        None   \n",
      "\n",
      "   units missing_values  \n",
      "0   None             no  \n",
      "1   None             no  \n",
      "2   None             no  \n",
      "3   None             no  \n",
      "4   None             no  \n",
      "5   None             no  \n",
      "6   None             no  \n",
      "7   None             no  \n",
      "8   None             no  \n",
      "9   None             no  \n",
      "10  None             no  \n",
      "11  None             no  \n",
      "12  None             no  \n",
      "13  None             no  \n",
      "14  None             no  \n",
      "15  None             no  \n",
      "16  None             no  \n",
      "17  None             no  \n",
      "18  None             no  \n",
      "19  None             no  \n",
      "20  None             no  \n",
      "21  None             no  \n",
      "22  None             no  \n",
      "23  None             no  \n",
      "24  None             no  \n",
      "25  None             no  \n",
      "26  None             no  \n",
      "27  None             no  \n",
      "28  None             no  \n",
      "29  None             no  \n",
      "30  None             no  \n"
     ]
    }
   ],
   "source": [
    "#1) Cargar Datos y chequear identidad.\n",
    "\n",
    "# fetch dataset \n",
    "phishing_websites = fetch_ucirepo(id=327) \n",
    "  \n",
    "# data (as pandas dataframes) \n",
    "X = phishing_websites.data.features \n",
    "y = phishing_websites.data.targets \n",
    "  \n",
    "# metadata \n",
    "print(phishing_websites.metadata) \n",
    "  \n",
    "# variable information \n",
    "print(phishing_websites.variables) \n",
    "\n"
   ]
  },
  {
   "cell_type": "code",
   "execution_count": 99,
   "metadata": {},
   "outputs": [
    {
     "data": {
      "text/html": [
       "<div>\n",
       "<style scoped>\n",
       "    .dataframe tbody tr th:only-of-type {\n",
       "        vertical-align: middle;\n",
       "    }\n",
       "\n",
       "    .dataframe tbody tr th {\n",
       "        vertical-align: top;\n",
       "    }\n",
       "\n",
       "    .dataframe thead th {\n",
       "        text-align: right;\n",
       "    }\n",
       "</style>\n",
       "<table border=\"1\" class=\"dataframe\">\n",
       "  <thead>\n",
       "    <tr style=\"text-align: right;\">\n",
       "      <th></th>\n",
       "      <th>having_ip_address</th>\n",
       "      <th>url_length</th>\n",
       "      <th>shortining_service</th>\n",
       "      <th>having_at_symbol</th>\n",
       "      <th>double_slash_redirecting</th>\n",
       "      <th>prefix_suffix</th>\n",
       "      <th>having_sub_domain</th>\n",
       "      <th>sslfinal_state</th>\n",
       "      <th>domain_registration_length</th>\n",
       "      <th>favicon</th>\n",
       "      <th>...</th>\n",
       "      <th>rightclick</th>\n",
       "      <th>popupwindow</th>\n",
       "      <th>iframe</th>\n",
       "      <th>age_of_domain</th>\n",
       "      <th>dnsrecord</th>\n",
       "      <th>web_traffic</th>\n",
       "      <th>page_rank</th>\n",
       "      <th>google_index</th>\n",
       "      <th>links_pointing_to_page</th>\n",
       "      <th>statistical_report</th>\n",
       "    </tr>\n",
       "  </thead>\n",
       "  <tbody>\n",
       "    <tr>\n",
       "      <th>0</th>\n",
       "      <td>-1</td>\n",
       "      <td>1</td>\n",
       "      <td>1</td>\n",
       "      <td>1</td>\n",
       "      <td>-1</td>\n",
       "      <td>-1</td>\n",
       "      <td>-1</td>\n",
       "      <td>-1</td>\n",
       "      <td>-1</td>\n",
       "      <td>1</td>\n",
       "      <td>...</td>\n",
       "      <td>1</td>\n",
       "      <td>1</td>\n",
       "      <td>1</td>\n",
       "      <td>-1</td>\n",
       "      <td>-1</td>\n",
       "      <td>-1</td>\n",
       "      <td>-1</td>\n",
       "      <td>1</td>\n",
       "      <td>1</td>\n",
       "      <td>-1</td>\n",
       "    </tr>\n",
       "    <tr>\n",
       "      <th>1</th>\n",
       "      <td>1</td>\n",
       "      <td>1</td>\n",
       "      <td>1</td>\n",
       "      <td>1</td>\n",
       "      <td>1</td>\n",
       "      <td>-1</td>\n",
       "      <td>0</td>\n",
       "      <td>1</td>\n",
       "      <td>-1</td>\n",
       "      <td>1</td>\n",
       "      <td>...</td>\n",
       "      <td>1</td>\n",
       "      <td>1</td>\n",
       "      <td>1</td>\n",
       "      <td>-1</td>\n",
       "      <td>-1</td>\n",
       "      <td>0</td>\n",
       "      <td>-1</td>\n",
       "      <td>1</td>\n",
       "      <td>1</td>\n",
       "      <td>1</td>\n",
       "    </tr>\n",
       "    <tr>\n",
       "      <th>2</th>\n",
       "      <td>1</td>\n",
       "      <td>0</td>\n",
       "      <td>1</td>\n",
       "      <td>1</td>\n",
       "      <td>1</td>\n",
       "      <td>-1</td>\n",
       "      <td>-1</td>\n",
       "      <td>-1</td>\n",
       "      <td>-1</td>\n",
       "      <td>1</td>\n",
       "      <td>...</td>\n",
       "      <td>1</td>\n",
       "      <td>1</td>\n",
       "      <td>1</td>\n",
       "      <td>1</td>\n",
       "      <td>-1</td>\n",
       "      <td>1</td>\n",
       "      <td>-1</td>\n",
       "      <td>1</td>\n",
       "      <td>0</td>\n",
       "      <td>-1</td>\n",
       "    </tr>\n",
       "    <tr>\n",
       "      <th>3</th>\n",
       "      <td>1</td>\n",
       "      <td>0</td>\n",
       "      <td>1</td>\n",
       "      <td>1</td>\n",
       "      <td>1</td>\n",
       "      <td>-1</td>\n",
       "      <td>-1</td>\n",
       "      <td>-1</td>\n",
       "      <td>1</td>\n",
       "      <td>1</td>\n",
       "      <td>...</td>\n",
       "      <td>1</td>\n",
       "      <td>1</td>\n",
       "      <td>1</td>\n",
       "      <td>-1</td>\n",
       "      <td>-1</td>\n",
       "      <td>1</td>\n",
       "      <td>-1</td>\n",
       "      <td>1</td>\n",
       "      <td>-1</td>\n",
       "      <td>1</td>\n",
       "    </tr>\n",
       "    <tr>\n",
       "      <th>4</th>\n",
       "      <td>1</td>\n",
       "      <td>0</td>\n",
       "      <td>-1</td>\n",
       "      <td>1</td>\n",
       "      <td>1</td>\n",
       "      <td>-1</td>\n",
       "      <td>1</td>\n",
       "      <td>1</td>\n",
       "      <td>-1</td>\n",
       "      <td>1</td>\n",
       "      <td>...</td>\n",
       "      <td>1</td>\n",
       "      <td>-1</td>\n",
       "      <td>1</td>\n",
       "      <td>-1</td>\n",
       "      <td>-1</td>\n",
       "      <td>0</td>\n",
       "      <td>-1</td>\n",
       "      <td>1</td>\n",
       "      <td>1</td>\n",
       "      <td>1</td>\n",
       "    </tr>\n",
       "  </tbody>\n",
       "</table>\n",
       "<p>5 rows × 30 columns</p>\n",
       "</div>"
      ],
      "text/plain": [
       "   having_ip_address  url_length  shortining_service  having_at_symbol  \\\n",
       "0                 -1           1                   1                 1   \n",
       "1                  1           1                   1                 1   \n",
       "2                  1           0                   1                 1   \n",
       "3                  1           0                   1                 1   \n",
       "4                  1           0                  -1                 1   \n",
       "\n",
       "   double_slash_redirecting  prefix_suffix  having_sub_domain  sslfinal_state  \\\n",
       "0                        -1             -1                 -1              -1   \n",
       "1                         1             -1                  0               1   \n",
       "2                         1             -1                 -1              -1   \n",
       "3                         1             -1                 -1              -1   \n",
       "4                         1             -1                  1               1   \n",
       "\n",
       "   domain_registration_length  favicon  ...  rightclick  popupwindow  iframe  \\\n",
       "0                          -1        1  ...           1            1       1   \n",
       "1                          -1        1  ...           1            1       1   \n",
       "2                          -1        1  ...           1            1       1   \n",
       "3                           1        1  ...           1            1       1   \n",
       "4                          -1        1  ...           1           -1       1   \n",
       "\n",
       "   age_of_domain  dnsrecord  web_traffic  page_rank  google_index  \\\n",
       "0             -1         -1           -1         -1             1   \n",
       "1             -1         -1            0         -1             1   \n",
       "2              1         -1            1         -1             1   \n",
       "3             -1         -1            1         -1             1   \n",
       "4             -1         -1            0         -1             1   \n",
       "\n",
       "   links_pointing_to_page  statistical_report  \n",
       "0                       1                  -1  \n",
       "1                       1                   1  \n",
       "2                       0                  -1  \n",
       "3                      -1                   1  \n",
       "4                       1                   1  \n",
       "\n",
       "[5 rows x 30 columns]"
      ]
     },
     "execution_count": 99,
     "metadata": {},
     "output_type": "execute_result"
    }
   ],
   "source": [
    "X.head()"
   ]
  },
  {
   "cell_type": "code",
   "execution_count": 100,
   "metadata": {},
   "outputs": [
    {
     "data": {
      "text/html": [
       "<div>\n",
       "<style scoped>\n",
       "    .dataframe tbody tr th:only-of-type {\n",
       "        vertical-align: middle;\n",
       "    }\n",
       "\n",
       "    .dataframe tbody tr th {\n",
       "        vertical-align: top;\n",
       "    }\n",
       "\n",
       "    .dataframe thead th {\n",
       "        text-align: right;\n",
       "    }\n",
       "</style>\n",
       "<table border=\"1\" class=\"dataframe\">\n",
       "  <thead>\n",
       "    <tr style=\"text-align: right;\">\n",
       "      <th></th>\n",
       "      <th>result</th>\n",
       "    </tr>\n",
       "  </thead>\n",
       "  <tbody>\n",
       "    <tr>\n",
       "      <th>0</th>\n",
       "      <td>-1</td>\n",
       "    </tr>\n",
       "    <tr>\n",
       "      <th>1</th>\n",
       "      <td>-1</td>\n",
       "    </tr>\n",
       "    <tr>\n",
       "      <th>2</th>\n",
       "      <td>-1</td>\n",
       "    </tr>\n",
       "    <tr>\n",
       "      <th>3</th>\n",
       "      <td>-1</td>\n",
       "    </tr>\n",
       "    <tr>\n",
       "      <th>4</th>\n",
       "      <td>1</td>\n",
       "    </tr>\n",
       "  </tbody>\n",
       "</table>\n",
       "</div>"
      ],
      "text/plain": [
       "   result\n",
       "0      -1\n",
       "1      -1\n",
       "2      -1\n",
       "3      -1\n",
       "4       1"
      ]
     },
     "execution_count": 100,
     "metadata": {},
     "output_type": "execute_result"
    }
   ],
   "source": [
    "y.head()"
   ]
  },
  {
   "cell_type": "code",
   "execution_count": 101,
   "metadata": {},
   "outputs": [
    {
     "data": {
      "text/plain": [
       "having_ip_address             0\n",
       "url_length                    0\n",
       "shortining_service            0\n",
       "having_at_symbol              0\n",
       "double_slash_redirecting      0\n",
       "prefix_suffix                 0\n",
       "having_sub_domain             0\n",
       "sslfinal_state                0\n",
       "domain_registration_length    0\n",
       "favicon                       0\n",
       "port                          0\n",
       "https_token                   0\n",
       "request_url                   0\n",
       "url_of_anchor                 0\n",
       "links_in_tags                 0\n",
       "sfh                           0\n",
       "submitting_to_email           0\n",
       "abnormal_url                  0\n",
       "redirect                      0\n",
       "on_mouseover                  0\n",
       "rightclick                    0\n",
       "popupwindow                   0\n",
       "iframe                        0\n",
       "age_of_domain                 0\n",
       "dnsrecord                     0\n",
       "web_traffic                   0\n",
       "page_rank                     0\n",
       "google_index                  0\n",
       "links_pointing_to_page        0\n",
       "statistical_report            0\n",
       "dtype: int64"
      ]
     },
     "execution_count": 101,
     "metadata": {},
     "output_type": "execute_result"
    }
   ],
   "source": [
    "X.isnull().sum()"
   ]
  },
  {
   "cell_type": "code",
   "execution_count": 102,
   "metadata": {},
   "outputs": [
    {
     "data": {
      "text/plain": [
       "result    0\n",
       "dtype: int64"
      ]
     },
     "execution_count": 102,
     "metadata": {},
     "output_type": "execute_result"
    }
   ],
   "source": [
    "y.isnull().sum()"
   ]
  },
  {
   "cell_type": "markdown",
   "metadata": {},
   "source": [
    "### 2. Pensando en un pipeline de Machine Learning, en este paso es necesario preparar los datos. ¿Se debe estandarizar primero y luego separar los datos, o separar los datos primero y luego estandarizar por separado? ¿Por qué?\n",
    "\n",
    "**Respuesta:**  \n",
    "Primero, se deben dividir los datos en conjuntos de entrenamiento y prueba. Posteriormente, se deben estandarizar por separado, calculando la media y desviación estándar **solo** en el conjunto de entrenamiento. Luego, se aplican estas mismas medidas al conjunto de prueba. Este orden es fundamental para evitar problemas como el **data leakage** (filtración de datos), que ocurre si estandarizamos los datos antes de separarlos. Esto significaría que el modelo utiliza estadísticas de todo el conjunto de datos, incluidos los de prueba, lo que podría generar un rendimiento engañoso en los datos de prueba y un modelo que no generaliza correctamente en datos nuevos.\n"
   ]
  },
  {
   "cell_type": "markdown",
   "metadata": {},
   "source": [
    "### 3. ¿Es recomendable estandarizar los datos en este caso en específico?  explique su respuesta,  y proceda según corresponda.\n",
    "\n",
    "**Respuesta:**\n",
    "En este caso, no es necesario estandarizar los datos porque ya se encuentran en un rango acotado (-1, 0, 1), lo que asegura que las características estén en la misma escala. La estandarización es útil cuando las características tienen escalas muy diferentes o valores numéricos grandes, lo que podría afectar el rendimiento de algunos algoritmos de machine learning. Sin embargo, en este caso específico, los datos ya están bien escalados para la aplicación de modelos que se nos pide."
   ]
  },
  {
   "cell_type": "code",
   "execution_count": 103,
   "metadata": {},
   "outputs": [
    {
     "data": {
      "text/plain": [
       "result    0.113885\n",
       "dtype: float64"
      ]
     },
     "execution_count": 103,
     "metadata": {},
     "output_type": "execute_result"
    }
   ],
   "source": [
    "y.mean()"
   ]
  },
  {
   "cell_type": "code",
   "execution_count": 104,
   "metadata": {},
   "outputs": [
    {
     "data": {
      "text/plain": [
       "result    0.993539\n",
       "dtype: float64"
      ]
     },
     "execution_count": 104,
     "metadata": {},
     "output_type": "execute_result"
    }
   ],
   "source": [
    "y.std()"
   ]
  },
  {
   "cell_type": "code",
   "execution_count": 105,
   "metadata": {},
   "outputs": [
    {
     "data": {
      "text/plain": [
       "having_ip_address             0.313795\n",
       "url_length                   -0.633198\n",
       "shortining_service            0.738761\n",
       "having_at_symbol              0.700588\n",
       "double_slash_redirecting      0.741474\n",
       "prefix_suffix                -0.734962\n",
       "having_sub_domain             0.063953\n",
       "sslfinal_state                0.250927\n",
       "domain_registration_length   -0.336771\n",
       "favicon                       0.628584\n",
       "port                          0.728268\n",
       "https_token                   0.675079\n",
       "request_url                   0.186793\n",
       "url_of_anchor                -0.076526\n",
       "links_in_tags                -0.118137\n",
       "sfh                          -0.595749\n",
       "submitting_to_email           0.635640\n",
       "abnormal_url                  0.705292\n",
       "redirect                      0.115694\n",
       "on_mouseover                  0.762099\n",
       "rightclick                    0.913885\n",
       "popupwindow                   0.613388\n",
       "iframe                        0.816915\n",
       "age_of_domain                 0.061239\n",
       "dnsrecord                     0.377114\n",
       "web_traffic                   0.287291\n",
       "page_rank                    -0.483673\n",
       "google_index                  0.721574\n",
       "links_pointing_to_page        0.344007\n",
       "statistical_report            0.719584\n",
       "dtype: float64"
      ]
     },
     "execution_count": 105,
     "metadata": {},
     "output_type": "execute_result"
    }
   ],
   "source": [
    "X.mean()"
   ]
  },
  {
   "cell_type": "code",
   "execution_count": 106,
   "metadata": {},
   "outputs": [
    {
     "data": {
      "text/plain": [
       "having_ip_address             0.949534\n",
       "url_length                    0.766095\n",
       "shortining_service            0.673998\n",
       "having_at_symbol              0.713598\n",
       "double_slash_redirecting      0.671011\n",
       "prefix_suffix                 0.678139\n",
       "having_sub_domain             0.817518\n",
       "sslfinal_state                0.911892\n",
       "domain_registration_length    0.941629\n",
       "favicon                       0.777777\n",
       "port                          0.685324\n",
       "https_token                   0.737779\n",
       "request_url                   0.982444\n",
       "url_of_anchor                 0.715138\n",
       "links_in_tags                 0.763973\n",
       "sfh                           0.759143\n",
       "submitting_to_email           0.772021\n",
       "abnormal_url                  0.708949\n",
       "redirect                      0.319872\n",
       "on_mouseover                  0.647490\n",
       "rightclick                    0.405991\n",
       "popupwindow                   0.789818\n",
       "iframe                        0.576784\n",
       "age_of_domain                 0.998168\n",
       "dnsrecord                     0.926209\n",
       "web_traffic                   0.827733\n",
       "page_rank                     0.875289\n",
       "google_index                  0.692369\n",
       "links_pointing_to_page        0.569944\n",
       "statistical_report            0.694437\n",
       "dtype: float64"
      ]
     },
     "execution_count": 106,
     "metadata": {},
     "output_type": "execute_result"
    }
   ],
   "source": [
    "X.std()"
   ]
  },
  {
   "cell_type": "markdown",
   "metadata": {},
   "source": [
    "### 4. Entrenar los modelos NB, QDA, LDA y Logistic Regression utilizando correctamente los conjuntos de entrenamiento, test y validación.\n"
   ]
  },
  {
   "cell_type": "code",
   "execution_count": 107,
   "metadata": {},
   "outputs": [
    {
     "name": "stderr",
     "output_type": "stream",
     "text": [
      "c:\\Users\\alvar\\AppData\\Local\\Programs\\Python\\Python312\\Lib\\site-packages\\sklearn\\discriminant_analysis.py:947: UserWarning: Variables are collinear\n",
      "  warnings.warn(\"Variables are collinear\")\n"
     ]
    }
   ],
   "source": [
    "# Dividir en conjunto de entrenamiento (60%), validación (20%) y prueba (20%)\n",
    "X_train, X_temp, y_train, y_temp = train_test_split(X, y, test_size=0.4, random_state=42)\n",
    "X_val, X_test, y_val, y_test = train_test_split(X_temp, y_temp, test_size=0.5, random_state=42)\n",
    "\n",
    "# Convertir y en arrays unidimensionales\n",
    "y_train = y_train.values.ravel()\n",
    "y_val = y_val.values.ravel()\n",
    "y_test = y_test.values.ravel()\n",
    "\n",
    "# Entrenar modelos\n",
    "\n",
    "# Naive Bayes\n",
    "nb = GaussianNB()\n",
    "nb.fit(X_train, y_train)\n",
    "\n",
    "# Quadratic Discriminant Analysis (QDA)\n",
    "qda = QuadraticDiscriminantAnalysis()\n",
    "qda.fit(X_train, y_train)\n",
    "\n",
    "# Linear Discriminant Analysis (LDA)\n",
    "lda = LinearDiscriminantAnalysis()\n",
    "lda.fit(X_train, y_train)\n",
    "\n",
    "# Logistic Regression\n",
    "lr = LogisticRegression(max_iter=1000)\n",
    "lr.fit(X_train, y_train)\n",
    "\n",
    "# Predecir sobre el conjunto de validación\n",
    "y_val_pred_nb = nb.predict(X_val)\n",
    "y_val_pred_qda = qda.predict(X_val)\n",
    "y_val_pred_lda = lda.predict(X_val)\n",
    "y_val_pred_lr = lr.predict(X_val)\n",
    "\n",
    "\n"
   ]
  },
  {
   "cell_type": "markdown",
   "metadata": {},
   "source": [
    "### 5. Elija 3 métricas de clasificación que encuentre relevante y explique cuál y por qué encuentra que un modelo es mejor que los demás.\n",
    "\n",
    "**Respuesta**\n",
    "- Recall: Esta metrica nos importa en este contexto pues nos va a dar informacion de todos los sitios web que efectivamente son phishing y como se comporto el modelo frente a estos.\n",
    "\n",
    "- F1-score: Esta metrica tiene en cosideracion 2 metricas importantes las cuales son Recall y Precision, por tanto, nos ayudara a mantener un equilibrio entre ambas dependiendo el enfoque que uno quiera adoptar.\n",
    "\n",
    "- Precision: En nuestro contexto nos servira para i"
   ]
  },
  {
   "cell_type": "code",
   "execution_count": 108,
   "metadata": {},
   "outputs": [
    {
     "data": {
      "text/html": [
       "<div>\n",
       "<style scoped>\n",
       "    .dataframe tbody tr th:only-of-type {\n",
       "        vertical-align: middle;\n",
       "    }\n",
       "\n",
       "    .dataframe tbody tr th {\n",
       "        vertical-align: top;\n",
       "    }\n",
       "\n",
       "    .dataframe thead th {\n",
       "        text-align: right;\n",
       "    }\n",
       "</style>\n",
       "<table border=\"1\" class=\"dataframe\">\n",
       "  <thead>\n",
       "    <tr style=\"text-align: right;\">\n",
       "      <th></th>\n",
       "      <th>precision</th>\n",
       "      <th>f1-score</th>\n",
       "      <th>recall</th>\n",
       "    </tr>\n",
       "  </thead>\n",
       "  <tbody>\n",
       "    <tr>\n",
       "      <th>Naive Bayes</th>\n",
       "      <td>0.997015</td>\n",
       "      <td>0.425478</td>\n",
       "      <td>0.270445</td>\n",
       "    </tr>\n",
       "    <tr>\n",
       "      <th>QDA</th>\n",
       "      <td>0.941341</td>\n",
       "      <td>0.423101</td>\n",
       "      <td>0.272874</td>\n",
       "    </tr>\n",
       "    <tr>\n",
       "      <th>LDA</th>\n",
       "      <td>0.911462</td>\n",
       "      <td>0.922400</td>\n",
       "      <td>0.933603</td>\n",
       "    </tr>\n",
       "    <tr>\n",
       "      <th>Logistic Regression</th>\n",
       "      <td>0.923387</td>\n",
       "      <td>0.925253</td>\n",
       "      <td>0.927126</td>\n",
       "    </tr>\n",
       "  </tbody>\n",
       "</table>\n",
       "</div>"
      ],
      "text/plain": [
       "                     precision  f1-score    recall\n",
       "Naive Bayes           0.997015  0.425478  0.270445\n",
       "QDA                   0.941341  0.423101  0.272874\n",
       "LDA                   0.911462  0.922400  0.933603\n",
       "Logistic Regression   0.923387  0.925253  0.927126"
      ]
     },
     "execution_count": 108,
     "metadata": {},
     "output_type": "execute_result"
    }
   ],
   "source": [
    "# Calcular las métricas (f1-score, precision, recall)\n",
    "metrics = {}\n",
    "\n",
    "metrics['Naive Bayes'] = {\n",
    "    'precision': precision_score(y_val, y_val_pred_nb),\n",
    "    'f1-score': f1_score(y_val, y_val_pred_nb),\n",
    "    'recall': recall_score(y_val, y_val_pred_nb)\n",
    "}\n",
    "\n",
    "metrics['QDA'] = {\n",
    "    'precision': precision_score(y_val, y_val_pred_qda),\n",
    "    'f1-score': f1_score(y_val, y_val_pred_qda),\n",
    "    'recall': recall_score(y_val, y_val_pred_qda)\n",
    "}\n",
    "\n",
    "metrics['LDA'] = {\n",
    "    'precision': precision_score(y_val, y_val_pred_lda),\n",
    "    'f1-score': f1_score(y_val, y_val_pred_lda),\n",
    "    'recall': recall_score(y_val, y_val_pred_lda)\n",
    "}\n",
    "\n",
    "metrics['Logistic Regression'] = {\n",
    "    'precision': precision_score(y_val, y_val_pred_lr),\n",
    "    'f1-score': f1_score(y_val, y_val_pred_lr),\n",
    "    'recall': recall_score(y_val, y_val_pred_lr)\n",
    "}\n",
    "\n",
    "\n",
    "\n",
    "metrics_df = pd.DataFrame(metrics).T  # Transponer para que los modelos sean las filas\n",
    "\n",
    "# Mostrar la tabla de métricas\n",
    "metrics_df"
   ]
  }
 ],
 "metadata": {
  "kernelspec": {
   "display_name": "Python 3",
   "language": "python",
   "name": "python3"
  },
  "language_info": {
   "codemirror_mode": {
    "name": "ipython",
    "version": 3
   },
   "file_extension": ".py",
   "mimetype": "text/x-python",
   "name": "python",
   "nbconvert_exporter": "python",
   "pygments_lexer": "ipython3",
   "version": "3.12.4"
  }
 },
 "nbformat": 4,
 "nbformat_minor": 2
}
