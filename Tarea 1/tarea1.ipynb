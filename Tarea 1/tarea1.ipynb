{
 "cells": [
  {
   "cell_type": "markdown",
   "metadata": {},
   "source": [
    "# Cargar datos y chequear integridad"
   ]
  },
  {
   "cell_type": "code",
   "execution_count": null,
   "metadata": {},
   "outputs": [],
   "source": [
    "#1) Cargar Datos y chequear identidad.\n",
    "\n",
    "from ucimlrepo import fetch_ucirepo \n",
    "  \n",
    "# fetch dataset \n",
    "phishing_websites = fetch_ucirepo(id=327) \n",
    "  \n",
    "# data (as pandas dataframes) \n",
    "X = phishing_websites.data.features \n",
    "y = phishing_websites.data.targets \n",
    "  \n",
    "# metadata \n",
    "print(phishing_websites.metadata) \n",
    "  \n",
    "# variable information \n",
    "print(phishing_websites.variables) \n",
    "\n",
    "# Verificar valores faltantes en las características (X)\n",
    "print(X.isnull().sum())\n",
    "\n",
    "# Verificar valores faltantes en las etiquetas (y)\n",
    "print(y.isnull().sum())\n"
   ]
  },
  {
   "cell_type": "markdown",
   "metadata": {},
   "source": [
    "### 2. Pensando en un pipeline de Machine Learning, en este paso es necesario preparar los datos. ¿Se debe estandarizar primero y luego separar los datos, o separar los datos primero y luego estandarizar por separado? ¿Por qué?\n",
    "\n",
    "**Respuesta:**  \n",
    "Primero, se deben dividir los datos en conjuntos de entrenamiento y prueba. Posteriormente, se deben estandarizar por separado, calculando la media y desviación estándar **solo** en el conjunto de entrenamiento. Luego, se aplican estas mismas medidas al conjunto de prueba. Este orden es fundamental para evitar problemas como el **data leakage** (filtración de datos), que ocurre si estandarizamos los datos antes de separarlos. Esto significaría que el modelo utiliza estadísticas de todo el conjunto de datos, incluidos los de prueba, lo que podría generar un rendimiento engañoso en los datos de prueba y un modelo que no generaliza correctamente en datos nuevos.\n"
   ]
  }
 ],
 "metadata": {
  "kernelspec": {
   "display_name": "Python 3",
   "language": "python",
   "name": "python3"
  },
  "language_info": {
   "codemirror_mode": {
    "name": "ipython",
    "version": 3
   },
   "file_extension": ".py",
   "mimetype": "text/x-python",
   "name": "python",
   "nbconvert_exporter": "python",
   "pygments_lexer": "ipython3",
   "version": "3.12.4"
  }
 },
 "nbformat": 4,
 "nbformat_minor": 2
}
